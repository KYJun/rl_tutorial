{
 "cells": [
  {
   "cell_type": "markdown",
   "metadata": {},
   "source": [
    "## Reinforcement Learning\n",
    "###  Q-Learning using Table and Simple Neural Network\n",
    "\n",
    "- Originally by Arthur Juliani: [github DeepRL-Agents](https://github.com/awjuliani/DeepRL-Agents)\n",
    "- Revised by YoungJun Kim"
   ]
  },
  {
   "cell_type": "markdown",
   "metadata": {},
   "source": [
    "### 1. Import\n",
    "- tensorflow >= 1.2\n",
    "- gym: Open-AI gym. set up envrionments for RL problem examples"
   ]
  },
  {
   "cell_type": "code",
   "execution_count": 1,
   "metadata": {
    "collapsed": true
   },
   "outputs": [],
   "source": [
    "from __future__ import absolute_import, division, print_function\n",
    "import gym \n",
    "import random, os, sys, time\n",
    "import numpy as np\n",
    "from tqdm import tqdm_notebook\n",
    "import tensorflow as tf\n",
    "import matplotlib.pyplot as plt\n",
    "from IPython.display import clear_output\n",
    "%matplotlib inline"
   ]
  },
  {
   "cell_type": "markdown",
   "metadata": {},
   "source": [
    "#### Frozen Lake Problem\n",
    "- Possible States: 4x4 grid /\n",
    "    S: Start /\n",
    "    G: Goal /\n",
    "    F: Frozen Ground(Safe) /\n",
    "    H: Hole (Dangerous)\n",
    "- Possible Action: [Left, Down, Right, Up]\n",
    "- Noise: Wind disrupts action\n",
    "- Reward: 0 for each state, 1 for reaching the Goal"
   ]
  },
  {
   "cell_type": "code",
   "execution_count": 2,
   "metadata": {},
   "outputs": [
    {
     "name": "stdout",
     "output_type": "stream",
     "text": [
      "\n",
      "\u001b[41mS\u001b[0mFFF\n",
      "FHFH\n",
      "FFFH\n",
      "HFFG\n"
     ]
    }
   ],
   "source": [
    "# load environment for Frozen-Lake problem\n",
    "env = gym.make('FrozenLake-v0')\n",
    "env.render()"
   ]
  },
  {
   "cell_type": "markdown",
   "metadata": {},
   "source": [
    "### 2. Q-Table learning\n",
    "- Initialize: 16x4 Q-table with value 0\n",
    "- Observe: Make greedy choices with current value and get reward for each choice\n",
    "- Update: Update current Q-value with newly gained returns\n",
    "- Repeat 3-steps by num_episodes"
   ]
  },
  {
   "cell_type": "code",
   "execution_count": 3,
   "metadata": {},
   "outputs": [
    {
     "data": {
      "application/vnd.jupyter.widget-view+json": {
       "model_id": "1270e13126b644e8a855613a4b11c107"
      }
     },
     "metadata": {},
     "output_type": "display_data"
    },
    {
     "name": "stdout",
     "output_type": "stream",
     "text": [
      "\n"
     ]
    }
   ],
   "source": [
    "## Initialize 16x4 Q-table padded with all-zeroes ##\n",
    "Q_table = np.zeros([env.observation_space.n,env.action_space.n])\n",
    "\n",
    "## hyperparameters ##\n",
    "alpha = .8          # step_size parameter\n",
    "g = .95             # discount_factor\n",
    "num_episodes = 2000 # num_of_episodes = num_of_value_updates \n",
    "\n",
    "j_List = []  # list for steps per episode (max_step: 99)\n",
    "reward_List = []  # list for total rewards\n",
    "\n",
    "## training ##\n",
    "for i in tqdm_notebook(range(num_episodes), desc=\"episode\"):\n",
    "    \n",
    "    #Reset environment and get first new observation\n",
    "    state = env.reset()\n",
    "    reward_All = 0\n",
    "    done = False\n",
    "    j = 0\n",
    "    \n",
    "    #The Q-Table learning algorithm\n",
    "    while j < 99:\n",
    "        j+=1  #increase steps\n",
    "        \n",
    "        #Choose an action by greedily (with noise, similar to e-greedy approach) picking from Q table\n",
    "        action = np.argmax(Q_table[state,:] + np.random.randn(1,env.action_space.n)*(1./(i+1)))\n",
    "        \n",
    "        #Get new state and reward from environment\n",
    "        next_state,reward,done,_ = env.step(action)\n",
    "        \n",
    "        # Update Q-Table with new knowledge (SARSA)\n",
    "        Q_table[state,action] = Q_table[state,action] + alpha*(reward + g*np.max(Q_table[next_state,:]) \n",
    "                                                               - Q_table[state,action])\n",
    "        \n",
    "        reward_All += reward # append reward\n",
    "        state = next_state   # move to next state\n",
    "        \n",
    "        # if episode reaches the end point, break the loop\n",
    "        if done == True:\n",
    "            break\n",
    "    \n",
    "    # append episode full step info and reward info to each list     \n",
    "    j_List.append(j)\n",
    "    reward_List.append(reward_All)"
   ]
  },
  {
   "cell_type": "code",
   "execution_count": 4,
   "metadata": {},
   "outputs": [
    {
     "name": "stdout",
     "output_type": "stream",
     "text": [
      "Score over time: 0.5025\n"
     ]
    }
   ],
   "source": [
    "# average reward for whole episodes\n",
    "print(\"Score over time: \" +  str(sum(reward_List)/num_episodes))"
   ]
  },
  {
   "cell_type": "code",
   "execution_count": 5,
   "metadata": {},
   "outputs": [
    {
     "name": "stdout",
     "output_type": "stream",
     "text": [
      "Final Q-Table Values\n",
      "[[7.19021882e-02 7.04346776e-03 7.80488789e-03 6.58100517e-03]\n",
      " [1.97579553e-03 1.23418474e-03 1.08139328e-03 8.05309639e-02]\n",
      " [2.14290859e-03 9.80997088e-02 0.00000000e+00 5.71226001e-03]\n",
      " [1.48681604e-04 1.00923710e-03 5.49162587e-05 5.41631615e-02]\n",
      " [7.54443006e-02 6.92486661e-04 3.36353393e-03 4.12602879e-03]\n",
      " [0.00000000e+00 0.00000000e+00 0.00000000e+00 0.00000000e+00]\n",
      " [2.11425717e-01 5.50090461e-06 1.01590217e-04 1.74441573e-05]\n",
      " [0.00000000e+00 0.00000000e+00 0.00000000e+00 0.00000000e+00]\n",
      " [0.00000000e+00 4.71109466e-04 1.97349584e-03 1.06775142e-01]\n",
      " [2.69560123e-03 4.13235311e-01 5.84064732e-04 0.00000000e+00]\n",
      " [8.23227033e-01 0.00000000e+00 7.90833693e-04 3.20385358e-04]\n",
      " [0.00000000e+00 0.00000000e+00 0.00000000e+00 0.00000000e+00]\n",
      " [0.00000000e+00 0.00000000e+00 0.00000000e+00 0.00000000e+00]\n",
      " [9.04744155e-03 2.38090567e-03 5.04549870e-01 0.00000000e+00]\n",
      " [0.00000000e+00 0.00000000e+00 6.14400000e-03 5.94921169e-01]\n",
      " [0.00000000e+00 0.00000000e+00 0.00000000e+00 0.00000000e+00]]\n"
     ]
    }
   ],
   "source": [
    "# Final Q-Table\n",
    "print(\"Final Q-Table Values\")\n",
    "print(Q_table)"
   ]
  },
  {
   "cell_type": "code",
   "execution_count": 6,
   "metadata": {},
   "outputs": [
    {
     "data": {
      "text/plain": [
       "[<matplotlib.lines.Line2D at 0x11f976d30>]"
      ]
     },
     "execution_count": 6,
     "metadata": {},
     "output_type": "execute_result"
    },
    {
     "data": {
      "image/png": "[encoded data removed]",
      "text/plain": [
       "<matplotlib.figure.Figure at 0x10ac7ae10>"
      ]
     },
     "metadata": {},
     "output_type": "display_data"
    }
   ],
   "source": [
    "# how reward changed over episodes\n",
    "plt.plot(reward_List)"
   ]
  },
  {
   "cell_type": "code",
   "execution_count": 7,
   "metadata": {},
   "outputs": [
    {
     "data": {
      "text/plain": [
       "[<matplotlib.lines.Line2D at 0x12007cdd8>]"
      ]
     },
     "execution_count": 7,
     "metadata": {},
     "output_type": "execute_result"
    },
    {
     "data": {
      "image/png": "[encoded data removed]",
      "text/plain": [
       "<matplotlib.figure.Figure at 0x11f9c6390>"
      ]
     },
     "metadata": {},
     "output_type": "display_data"
    }
   ],
   "source": [
    "# how step numbers changed over episodes\n",
    "plt.plot(j_List)"
   ]
  },
  {
   "cell_type": "code",
   "execution_count": 8,
   "metadata": {
    "scrolled": true
   },
   "outputs": [
    {
     "name": "stdout",
     "output_type": "stream",
     "text": [
      "Step: 3, Current State:4, Action:Left, Next state:0\n",
      "  (Left)\n",
      "\u001b[41mS\u001b[0mFFF\n",
      "FHFH\n",
      "FFFH\n",
      "HFFG\n"
     ]
    },
    {
     "ename": "KeyboardInterrupt",
     "evalue": "",
     "output_type": "error",
     "traceback": [
      "\u001b[0;31m---------------------------------------------------------------------------\u001b[0m",
      "\u001b[0;31mKeyboardInterrupt\u001b[0m                         Traceback (most recent call last)",
      "\u001b[0;32m<ipython-input-8-a15a18178df9>\u001b[0m in \u001b[0;36m<module>\u001b[0;34m()\u001b[0m\n\u001b[1;32m     17\u001b[0m         \u001b[0mprint\u001b[0m\u001b[0;34m(\u001b[0m\u001b[0;34m\"Step: {}, Current State:{}, Action:{}, Next state:{}\"\u001b[0m\u001b[0;34m.\u001b[0m\u001b[0mformat\u001b[0m\u001b[0;34m(\u001b[0m\u001b[0mj\u001b[0m\u001b[0;34m,\u001b[0m \u001b[0mstate\u001b[0m\u001b[0;34m,\u001b[0m \u001b[0mpossible_action\u001b[0m\u001b[0;34m[\u001b[0m\u001b[0maction\u001b[0m\u001b[0;34m]\u001b[0m\u001b[0;34m,\u001b[0m \u001b[0mnext_state\u001b[0m\u001b[0;34m)\u001b[0m\u001b[0;34m)\u001b[0m\u001b[0;34m\u001b[0m\u001b[0m\n\u001b[1;32m     18\u001b[0m         \u001b[0menv\u001b[0m\u001b[0;34m.\u001b[0m\u001b[0mrender\u001b[0m\u001b[0;34m(\u001b[0m\u001b[0;34m)\u001b[0m\u001b[0;34m\u001b[0m\u001b[0m\n\u001b[0;32m---> 19\u001b[0;31m         \u001b[0mtime\u001b[0m\u001b[0;34m.\u001b[0m\u001b[0msleep\u001b[0m\u001b[0;34m(\u001b[0m\u001b[0;36m1.0\u001b[0m\u001b[0;34m)\u001b[0m\u001b[0;34m\u001b[0m\u001b[0m\n\u001b[0m\u001b[1;32m     20\u001b[0m \u001b[0;34m\u001b[0m\u001b[0m\n\u001b[1;32m     21\u001b[0m     \u001b[0;32melse\u001b[0m\u001b[0;34m:\u001b[0m\u001b[0;34m\u001b[0m\u001b[0m\n",
      "\u001b[0;31mKeyboardInterrupt\u001b[0m: "
     ]
    }
   ],
   "source": [
    "## Simulation ##\n",
    "clear_cells = True\n",
    "\n",
    "# array for assigning action\n",
    "possible_action = [\"Left\", \"Down\", \"Right\", \"Up\"]\n",
    "j = 0\n",
    "state = env.reset()\n",
    "env.render()\n",
    "\n",
    "while j < 99:\n",
    "    j+=1  #increase steps\n",
    "    action = np.argmax(Q_table[state,:]) \n",
    "    next_state,_,done,_ = env.step(action)\n",
    "    \n",
    "    if clear_cells:\n",
    "        clear_output(wait=True)\n",
    "        print(\"Step: {}, Current State:{}, Action:{}, Next state:{}\".format(j, state, possible_action[action], next_state))\n",
    "        env.render()\n",
    "        time.sleep(1.0)\n",
    "        \n",
    "    else:\n",
    "        env.render()\n",
    "        \n",
    "    state = next_state\n",
    "\n",
    "    # check if reached the goal or holes\n",
    "    if done == True:\n",
    "        if state == 15:\n",
    "            print(\"You win! Total steps: {}\".format(j))\n",
    "        else:\n",
    "            print(\"Game Over! Total steps: {}\".format(j))\n",
    "        break"
   ]
  },
  {
   "cell_type": "code",
   "execution_count": 9,
   "metadata": {},
   "outputs": [
    {
     "name": "stdout",
     "output_type": "stream",
     "text": [
      "Win Rate : 8/20\n"
     ]
    }
   ],
   "source": [
    "test_num = 20\n",
    "win = 0\n",
    "for i in range(test_num):\n",
    "    state = env.reset()\n",
    "    done = False\n",
    "    j = 0\n",
    "    while j < 99:\n",
    "        j +=1 \n",
    "        action = np.argmax(Q_table[state,:]) \n",
    "        next_state,_,done,_ = env.step(action)\n",
    "        state = next_state\n",
    "        if done:\n",
    "            if state == 15:\n",
    "                win += 1\n",
    "            break\n",
    "print(\"Win Rate : {}/{}\".format(win, test_num))"
   ]
  },
  {
   "cell_type": "markdown",
   "metadata": {},
   "source": [
    "### 3. Q-Network\n",
    "- Approximate Value function with weight\n",
    "- Calculate Loss by subtracting Target Q from Predicted Q value\n",
    "- Optimize with Gradient Descent Algorithm "
   ]
  },
  {
   "cell_type": "code",
   "execution_count": 10,
   "metadata": {
    "collapsed": true
   },
   "outputs": [],
   "source": [
    "### Graphing ###\n",
    "\n",
    "main_graph = tf.Graph()\n",
    "with main_graph.as_default():\n",
    "    \n",
    "    with tf.name_scope(\"forward_propagation\"):\n",
    "        # input: state as one-hot vector\n",
    "        inputs = tf.placeholder(shape=[1,16], dtype=tf.float32, name=\"State\")\n",
    "\n",
    "        # weight: initialize with random values\n",
    "        W = tf.Variable(tf.random_uniform(shape=[16,4], minval=0, maxval=0.01, dtype=tf.float32), name=\"Weight\")\n",
    "\n",
    "        # Predicted Q value: dot(input, weight)\n",
    "        predicted_Q = tf.matmul(inputs, W, name=\"Q\")\n",
    "\n",
    "        # Prediction: Maximum Q-value\n",
    "        predicted_action = tf.argmax(predicted_Q, axis=1, name=\"Action\")\n",
    "\n",
    "    with tf.name_scope(\"Loss_Optimizer\"):\n",
    "        # Q-value Calculated with Bellman Equation\n",
    "        target_Q = tf.placeholder(shape=[1,4], dtype=tf.float32, name=\"Target_Q\")\n",
    "\n",
    "        # Sum-squared Error between Target Q and Predicted Q\n",
    "        loss = tf.reduce_sum(tf.square(target_Q - predicted_Q), name=\"Loss\")\n",
    "\n",
    "        # Gradient Descent Optimizer\n",
    "        trainer = tf.train.GradientDescentOptimizer(learning_rate=0.1, name=\"Optimizer\")\n",
    "\n",
    "        # Update W\n",
    "        updateModel = trainer.minimize(loss, name=\"Update\")\n",
    "    \n",
    "    with tf.name_scope(\"writer\"):\n",
    "        # write graph & Weight at log directory\n",
    "        logdir=\"./log\"\n",
    "\n",
    "        if not os.path.exists(logdir):\n",
    "            os.mkdir(logdir)\n",
    "        \n",
    "        tf.summary.histogram('Weight', W)\n",
    "        tf.summary.scalar('Loss', loss)\n",
    "        writer = tf.summary.FileWriter(logdir=\"./log\", graph=main_graph)\n",
    "        summary = tf.summary.merge_all()\n",
    "        \n",
    "        saver = tf.train.Saver()\n",
    "      \n",
    "    # initializer\n",
    "    init = tf.global_variables_initializer()\n",
    "    "
   ]
  },
  {
   "cell_type": "code",
   "execution_count": 11,
   "metadata": {},
   "outputs": [
    {
     "data": {
      "application/vnd.jupyter.widget-view+json": {
       "model_id": "57ab97cb046c46d5aa58bcd5415094d8"
      }
     },
     "metadata": {},
     "output_type": "display_data"
    },
    {
     "name": "stdout",
     "output_type": "stream",
     "text": [
      "\n",
      "Percent of succesful episodes: 0.472%\n"
     ]
    }
   ],
   "source": [
    "### Training ###\n",
    "\n",
    "## Set learning parameters ##\n",
    "g = .99             # discount factor\n",
    "e = 0.1             # epsilon: for epsilon-greedy approach\n",
    "num_episodes = 2000 # num of episodes\n",
    "\n",
    "## create lists to contain total rewards and steps per episode ##\n",
    "jList = []\n",
    "rList = []\n",
    "\n",
    "with tf.Session(graph=main_graph) as sess:\n",
    "    \n",
    "    # initailze the model\n",
    "    sess.run(init)\n",
    "    \n",
    "    # keep track of global step\n",
    "    global_step = 0\n",
    "    \n",
    "    for i in tqdm_notebook(range(num_episodes), desc='Episode'): # loop for the whole episode\n",
    "        \n",
    "        #Reset environment and get first new observation\n",
    "        state = env.reset()\n",
    "        reward_All = 0\n",
    "        done = False\n",
    "        j = 0\n",
    "        \n",
    "        #The Q-Network\n",
    "        while j < 99: # loop for each episode\n",
    "            \n",
    "            # increase local and global step\n",
    "            j+=1\n",
    "            global_step+=1\n",
    "            \n",
    "            # state as one-hot vector\n",
    "            state_input = np.identity(16)[state:state+1]\n",
    "            \n",
    "            # get Q value and action from the Network\n",
    "            action, all_Q = sess.run([predicted_action,predicted_Q],feed_dict={inputs:state_input})\n",
    "            \n",
    "            # for the probability below epsilon, take random approach\n",
    "            if np.random.rand(1) < e:\n",
    "                action[0] = env.action_space.sample()\n",
    "\n",
    "            # Get new state and reward from environment\n",
    "            next_state, reward, done, _ = env.step(action[0])\n",
    "            \n",
    "            # Obtain the Q' values by feeding the new state through our network\n",
    "            next_state_input = np.identity(16)[next_state:next_state+1]\n",
    "            next_Q = sess.run(predicted_Q,feed_dict={inputs:next_state_input})\n",
    "            \n",
    "            # Obtain maxQ' and set our target value for chosen action.\n",
    "            max_next_Q = np.max(next_Q)\n",
    "            targetQ = all_Q\n",
    "            targetQ[0,action[0]] = reward + g*max_next_Q\n",
    "            \n",
    "            # comparing Q(s, a) and Reward + Q(s', a') from the same network\n",
    "            # Train our network using target and predicted Q values\n",
    "            # add summary of Graph and Weight variables\n",
    "            _, curr_summ = sess.run([updateModel, summary], feed_dict={inputs:state_input,target_Q:targetQ})\n",
    "            writer.add_summary(curr_summ, global_step=global_step)\n",
    "            \n",
    "            reward_All += reward\n",
    "            state = next_state\n",
    "            \n",
    "            if done == True:\n",
    "                e = 1./((i/50) + 10) # Reduce chance of random action as we train the model.\n",
    "                break\n",
    "                \n",
    "        jList.append(j)\n",
    "        rList.append(reward_All)\n",
    "\n",
    "    # save final weight value at checkpoint\n",
    "    saver.save(sess, os.path.join(logdir, \"model.ckpt\"))\n",
    "    \n",
    "print(\"Percent of succesful episodes: \" + str(sum(rList)/num_episodes) + \"%\")"
   ]
  },
  {
   "cell_type": "code",
   "execution_count": 12,
   "metadata": {},
   "outputs": [
    {
     "data": {
      "text/plain": [
       "[<matplotlib.lines.Line2D at 0x120ca2898>]"
      ]
     },
     "execution_count": 12,
     "metadata": {},
     "output_type": "execute_result"
    },
    {
     "data": {
      "image/png": "[encoded data removed]",
      "text/plain": [
       "<matplotlib.figure.Figure at 0x11fd64eb8>"
      ]
     },
     "metadata": {},
     "output_type": "display_data"
    }
   ],
   "source": [
    "plt.plot(rList)"
   ]
  },
  {
   "cell_type": "code",
   "execution_count": 13,
   "metadata": {},
   "outputs": [
    {
     "data": {
      "text/plain": [
       "[<matplotlib.lines.Line2D at 0x121047da0>]"
      ]
     },
     "execution_count": 13,
     "metadata": {},
     "output_type": "execute_result"
    },
    {
     "data": {
      "image/png": "[encoded data removed]",
      "text/plain": [
       "<matplotlib.figure.Figure at 0x11f9e7e48>"
      ]
     },
     "metadata": {},
     "output_type": "display_data"
    }
   ],
   "source": [
    "plt.plot(jList)"
   ]
  },
  {
   "cell_type": "code",
   "execution_count": 19,
   "metadata": {
    "scrolled": true
   },
   "outputs": [
    {
     "name": "stdout",
     "output_type": "stream",
     "text": [
      "Step: 30, Current State:14, Action:Right, Next state:15\n",
      "  (Right)\n",
      "SFFF\n",
      "FHFH\n",
      "FFFH\n",
      "HFF\u001b[41mG\u001b[0m\n",
      "You win! Total steps: 30\n"
     ]
    }
   ],
   "source": [
    "### simulation ###\n",
    "for i in range(5):\n",
    "    with tf.Session(graph=main_graph) as sess:\n",
    "\n",
    "        possible_action = [\"Left\", \"Down\", \"Right\", \"Up\"]\n",
    "\n",
    "        ckpt = tf.train.get_checkpoint_state(logdir)\n",
    "        saver.restore(sess, ckpt.model_checkpoint_path)\n",
    "\n",
    "        state = env.reset()\n",
    "        done = False\n",
    "        j = 0\n",
    "        env.render()\n",
    "\n",
    "        while j < 99:\n",
    "            j+=1\n",
    "\n",
    "            # state as one-hot vector\n",
    "            state_input = np.identity(16)[state:state+1]\n",
    "\n",
    "            # get Q value and action from the Network\n",
    "            action = sess.run(predicted_action,feed_dict={inputs:state_input})\n",
    "            next_state,_,done,_ = env.step(action[0])\n",
    "\n",
    "            if clear_cells:\n",
    "                clear_output(wait=True)\n",
    "                print(\"Step: {}, Current State:{}, Action:{}, Next state:{}\".format(j, state, possible_action[action[0]], next_state))\n",
    "                env.render()\n",
    "                time.sleep(1.0)\n",
    "\n",
    "            else:\n",
    "                env.render()\n",
    "\n",
    "            state = next_state\n",
    "            if done == True:\n",
    "                if state == 15:\n",
    "                    print(\"You win! Total steps: {}\".format(j))\n",
    "                else:\n",
    "                    print(\"Game Over! Total steps: {}\".format(j))\n",
    "                break\n",
    "                \n",
    "                #time.sleep(1.0)\n"
   ]
  },
  {
   "cell_type": "code",
   "execution_count": 15,
   "metadata": {},
   "outputs": [
    {
     "name": "stdout",
     "output_type": "stream",
     "text": [
      "INFO:tensorflow:Restoring parameters from ./log/model.ckpt\n",
      "Win Rate : 17/20\n"
     ]
    }
   ],
   "source": [
    "test_num = 20\n",
    "win = 0\n",
    "with tf.Session(graph=main_graph) as sess:\n",
    "    ckpt = tf.train.get_checkpoint_state(logdir)\n",
    "    saver.restore(sess, ckpt.model_checkpoint_path)\n",
    "    for i in range(test_num):\n",
    "        state = env.reset()\n",
    "        done = False\n",
    "        j = 0\n",
    "        while j < 99:\n",
    "            j +=1\n",
    "            state_input = np.identity(16)[state:state+1]\n",
    "            action = sess.run(predicted_action,feed_dict={inputs:state_input})\n",
    "            next_state,_,done,_ = env.step(action[0])\n",
    "            state = next_state\n",
    "            if done:\n",
    "                if state == 15:\n",
    "                    win += 1\n",
    "                break\n",
    "print(\"Win Rate : {}/{}\".format(win, test_num))"
   ]
  },
  {
   "cell_type": "markdown",
   "metadata": {},
   "source": [
    "### Reference & Original Code\n",
    "\n",
    "Post: https://medium.com/@awjuliani/simple-reinforcement-learning-with-tensorflow-part-0-q-learning-with-tables-and-neural-networks-d195264329d0\n",
    "\n",
    "Github: https://github.com/awjuliani/DeepRL-Agents"
   ]
  },
  {
   "cell_type": "code",
   "execution_count": null,
   "metadata": {
    "collapsed": true
   },
   "outputs": [],
   "source": []
  }
 ],
 "metadata": {
  "kernelspec": {
   "display_name": "Python TensorFlow",
   "language": "python",
   "name": "tensorflow"
  },
  "language_info": {
   "codemirror_mode": {
    "name": "ipython",
    "version": 3
   },
   "file_extension": ".py",
   "mimetype": "text/x-python",
   "name": "python",
   "nbconvert_exporter": "python",
   "pygments_lexer": "ipython3",
   "version": "3.6.3"
  }
 },
 "nbformat": 4,
 "nbformat_minor": 2
}
